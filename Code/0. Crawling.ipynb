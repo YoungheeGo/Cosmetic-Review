{
 "cells": [
  {
   "cell_type": "code",
   "execution_count": null,
   "metadata": {},
   "outputs": [],
   "source": [
    "import pandas as pd\n",
    "import numpy as np\n",
    "\n",
    "from bs4 import BeautifulSoup\n",
    "import requests\n",
    "\n",
    "import time\n",
    "import re\n",
    "import selenium\n",
    "from selenium import webdriver as wd\n",
    "from selenium.webdriver import Chrome\n",
    "from selenium.webdriver.common.keys import Keys\n",
    "from datetime import datetime, timedelta"
   ]
  },
  {
   "cell_type": "code",
   "execution_count": null,
   "metadata": {},
   "outputs": [],
   "source": [
    "div=wd.Chrome(r'C:\\Users\\koh99\\chromedriver.exe')\n",
    "div.get(review_url)\n",
    "time.sleep(2)\n",
    "\n",
    "item_lst=[]\n",
    "age_lst=[]\n",
    "skin_lst=[]\n",
    "gender_lst=[]\n",
    "star_lst=[]\n",
    "review_lst=[]\n",
    "date_lst=[]\n",
    "\n",
    "item=div.find_element_by_xpath(\"//*[@id='gp-default-main']/section/div/ul[1]/li[2]/section[1]/h1/span\").text\n",
    "print(item)\n",
    "\n",
    "n=111\n",
    "\n",
    "# 스크롤 맨 밑까지 내리기\n",
    "\n",
    "for i in range(n//2):\n",
    "    body=div.find_element_by_css_selector('body')\n",
    "    body.click()\n",
    "    body.send_keys(Keys.PAGE_DOWN)\n",
    "    time.sleep(0.5)\n",
    "\n",
    "\n",
    "review_box=div.find_element_by_xpath(\"//*[@id='gp-default-main']/section/div/ul[2]/li[5]/section/ul\")\n",
    "test=review_box.text\n",
    "\n",
    "for i in range(1,n):\n",
    "    try:\n",
    "        infos=div.find_element_by_xpath(\"//*[@id='gp-default-main']/section/div/ul[2]/li[5]/section/ul/li[\"+str(i)+\"]\")\n",
    "        print(i,'성공...!')\n",
    "        print(infos.text[])\n",
    "    except:\n",
    "        print(i,'실패...!')\n",
    "    \n",
    "div.close()      \n"
   ]
  },
  {
   "cell_type": "code",
   "execution_count": null,
   "metadata": {},
   "outputs": [],
   "source": [
    "div=wd.Chrome(r'C:\\Users\\koh99\\chromedriver.exe')\n",
    "div.get(review_url)\n",
    "time.sleep(2)\n",
    "\n",
    "item_lst=[] # 제품명\n",
    "age_lst=[] # 나이\n",
    "skin_lst=[] # 피부타입\n",
    "gender_lst=[] # 성별\n",
    "star_lst=[] # 평점\n",
    "review_lst=[] # 리뷰\n",
    "date_lst=[] # 날짜\n",
    "\n",
    "item=div.find_element_by_xpath(\"//*[@id='gp-default-main']/section/div/ul[1]/li[2]/section[1]/h1/span\").text\n",
    "print(item) # 제품명\n",
    "\n",
    "n=112\n",
    "\n",
    "# 스크롤 맨 밑까지 내리기\n",
    "\n",
    "for i in range(n//2):\n",
    "    body=div.find_element_by_css_selector('body')\n",
    "    body.click()\n",
    "    body.send_keys(Keys.PAGE_DOWN)\n",
    "    time.sleep(0.5)\n",
    "    \n",
    "\n",
    "for i in range(1,n):\n",
    "    print(i,'fin...!')\n",
    "    user=div.find_element_by_xpath(\"//*[@id='gp-default-main']/section/div/ul[2]/li[5]/section/ul/li[\"+str(i)+\"]/div/div/div/p/span[2]\")\n",
    "    age=user.text.split(\"·\")[0].strip() # 나이\n",
    "    skin=user.text.split(\"·\")[1].strip() # 피부타입\n",
    "    \n",
    "    # 성별\n",
    "    gender=div.find_element_by_xpath(\"//*[@id='gp-default-main']/section/div/ul[2]/li[5]/section/ul/li[\"+str(i)+\"]/div/div/div/p/span[2]/span[1]/span\").get_attribute(\"class\")[-1].strip()\n",
    "    \n",
    "    # 평점\n",
    "    star=div.find_element_by_xpath(\"//*[@id='gp-default-main']/section/div/ul[2]/li[5]/section/ul/li[\"+str(i)+\"]/div/div/div/p/span[2]/span[2]/span\").get_attribute('class').split()[-1].split('-')[-2]\n",
    "    \n",
    "    # 리뷰\n",
    "    review=div.find_element_by_xpath(\"//*[@id='gp-default-main']/section/div/ul[2]/li[5]/section/ul/li[\"+str(i)+\"]/div/p\").text\n",
    "    \n",
    "    # 날짜\n",
    "    temp=div.find_element_by_xpath(\"//*[@id='gp-default-main']/section/div/ul[2]/li[5]/section/ul/li[\"+str(i)+\"]/div/div/span\").text\n",
    "    if temp[-3:]==\"간 전\":\n",
    "            date=datetime.today().strftime(\"%Y-%m-%d\")\n",
    "\n",
    "    elif temp[-3:]==\"일 전\":\n",
    "        ago=int(temp[:-3])\n",
    "        day_ago = datetime.today() - timedelta(ago)\n",
    "        date=day_ago.strftime(\"%Y-%m-%d\")\n",
    "\n",
    "    elif temp[-3:]==\"월 전\":\n",
    "        ago=int(temp[:-4])*30\n",
    "        day_ago = datetime.today() - timedelta(ago)\n",
    "        date=day_ago.strftime(\"%Y-%m-%d\")\n",
    "    \n",
    "    item_lst.append(item)\n",
    "    age_lst.append(age)\n",
    "    skin_lst.append(skin)\n",
    "    gender_lst.append(gender)\n",
    "    star_lst.append(star)\n",
    "    review_lst.append(review)\n",
    "    date_lst.append(date)\n",
    "\n",
    "div.close()"
   ]
  },
  {
   "cell_type": "code",
   "execution_count": null,
   "metadata": {},
   "outputs": [],
   "source": [
    "print(len(item_lst))"
   ]
  },
  {
   "cell_type": "code",
   "execution_count": null,
   "metadata": {},
   "outputs": [],
   "source": [
    "print(len(age_lst))"
   ]
  },
  {
   "cell_type": "code",
   "execution_count": null,
   "metadata": {},
   "outputs": [],
   "source": [
    "print(len(skin_lst))"
   ]
  },
  {
   "cell_type": "code",
   "execution_count": null,
   "metadata": {},
   "outputs": [],
   "source": [
    "print(len(gender_lst))"
   ]
  },
  {
   "cell_type": "code",
   "execution_count": null,
   "metadata": {},
   "outputs": [],
   "source": [
    "print(len(star_lst))"
   ]
  },
  {
   "cell_type": "code",
   "execution_count": null,
   "metadata": {},
   "outputs": [],
   "source": [
    "print(len(review_lst))"
   ]
  },
  {
   "cell_type": "code",
   "execution_count": null,
   "metadata": {},
   "outputs": [],
   "source": [
    "print(len(date_lst))"
   ]
  },
  {
   "cell_type": "code",
   "execution_count": null,
   "metadata": {},
   "outputs": [],
   "source": [
    "df=pd.DataFrame({'Product':item_lst,'Age':age_lst,'Skin':skin_lst,'Gender':gender_lst,'Star':star_lst,'Review':review_lst,'Date':date_lst})\n",
    "df"
   ]
  },
  {
   "cell_type": "code",
   "execution_count": null,
   "metadata": {},
   "outputs": [],
   "source": []
  },
  {
   "cell_type": "code",
   "execution_count": null,
   "metadata": {},
   "outputs": [],
   "source": []
  },
  {
   "cell_type": "code",
   "execution_count": null,
   "metadata": {},
   "outputs": [],
   "source": []
  },
  {
   "cell_type": "code",
   "execution_count": null,
   "metadata": {},
   "outputs": [],
   "source": []
  }
 ],
 "metadata": {
  "kernelspec": {
   "display_name": "Python 3",
   "language": "python",
   "name": "python3"
  },
  "language_info": {
   "codemirror_mode": {
    "name": "ipython",
    "version": 3
   },
   "file_extension": ".py",
   "mimetype": "text/x-python",
   "name": "python",
   "nbconvert_exporter": "python",
   "pygments_lexer": "ipython3",
   "version": "3.7.4"
  }
 },
 "nbformat": 4,
 "nbformat_minor": 2
}
